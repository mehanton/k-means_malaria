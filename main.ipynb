{
 "cells": [
  {
   "cell_type": "markdown",
   "metadata": {},
   "source": [
    "## k means clusterization"
   ]
  },
  {
   "cell_type": "code",
   "execution_count": 1,
   "metadata": {},
   "outputs": [],
   "source": [
    "import os\n",
    "import cv2\n",
    "import csv\n",
    "import math\n",
    "import random\n",
    "import numpy as np\n",
    "import pandas as pd\n",
    "from matplotlib import pyplot as plt\n",
    "%matplotlib inline"
   ]
  },
  {
   "cell_type": "markdown",
   "metadata": {},
   "source": [
    "## Sepeartion"
   ]
  },
  {
   "cell_type": "code",
   "execution_count": 2,
   "metadata": {},
   "outputs": [
    {
     "name": "stdout",
     "output_type": "stream",
     "text": [
      "Sepeartion is done\n"
     ]
    }
   ],
   "source": [
    "#For Infected\n",
    "\n",
    "#Taking all names\n",
    "ParasitizedFilename = os.listdir(\"path/DataSet/Parasitized\")\n",
    "# print(len(ParasitizedFilename))\n",
    "#Sorting array by name\n",
    "ParasitizedFilename = sorted(ParasitizedFilename)#Files total=13799\n",
    "\n",
    "#For Uninfectedimport csv\n",
    "\n",
    "#Taking all names\n",
    "UninfectedFilename = os.listdir(\"path/DataSet/Uninfected\")   \n",
    "#Sorting array by name\n",
    "UninfectedFilename = sorted(UninfectedFilename)#Files total=13799\n",
    "print(\"Separtion is done\")"
   ]
  },
  {
   "cell_type": "code",
   "execution_count": 3,
   "metadata": {},
   "outputs": [],
   "source": [
    "# #csv of Filenames\n",
    "# pd.DataFrame(ParasitizedFilename).to_csv(\"ParasitizedFilename1.csv\")\n",
    "# pd.DataFrame(UninfectedFilename).to_csv(\"UninfectedFilename1.csv\")"
   ]
  },
  {
   "cell_type": "markdown",
   "metadata": {},
   "source": [
    "## Getting Histogram Data"
   ]
  },
  {
   "cell_type": "code",
   "execution_count": 4,
   "metadata": {},
   "outputs": [
    {
     "name": "stdout",
     "output_type": "stream",
     "text": [
      "Histogram Data has been collected\n"
     ]
    }
   ],
   "source": [
    "#Histogram of all training images\n",
    "Training = np.zeros((20000, 256))#first 10k will be Parasitized and then Uninfected\n",
    "\n",
    "#Getting and equalizing histogram\n",
    "for i in range(10000):#use 10000 files for training\n",
    "    img = cv2.imread(\"../DataSet/Parasitized/\" + ParasitizedFilename[i], 0)\n",
    "    equ = cv2.equalizeHist(img)#equalizing histogram\n",
    "    hist,bins = np.histogram(equ.flatten(),256,[0,256])#change\n",
    "    Training[i] = hist#filling histogram to Training array\n",
    "    Training[i][0] = 0\n",
    "\n",
    "    img = cv2.imread(\"../DataSet/Uninfected/\" + UninfectedFilename[i], 0)\n",
    "    equ = cv2.equalizeHist(img)#equalizing histogram\n",
    "    hist,bins = np.histogram(equ.flatten(),256,[0,256])\n",
    "    Training[i+10000] = hist#filling histogram to Training array\n",
    "    Training[i+10000][0] = 0\n",
    "\n",
    "print(\"Histogram Data has been collected\")"
   ]
  },
  {
   "cell_type": "code",
   "execution_count": 5,
   "metadata": {},
   "outputs": [],
   "source": [
    "# #csv of Training Histograms\n",
    "# pd.DataFrame(Training).to_csv(\"TrainingHistograms.csv\")"
   ]
  },
  {
   "cell_type": "markdown",
   "metadata": {},
   "source": [
    "## Clusterization"
   ]
  },
  {
   "cell_type": "markdown",
   "metadata": {},
   "source": [
    "2D - Datapoints List of n d-dimensional vectors. (For this example I already set up 2D Tuples)\n",
    "Feel free to change to whatever size tuples you want...\n",
    "<!-- \n",
    "# datapoints = [[100,5,1,100], [90,5,1,2], [110,5,1,20], [97,4,1,2], [102,4,1,2], [112,4,1,2], [92,4,1,2], [95,3,1,2], [90,3,1,2], [100,3,1,2],\n",
    "# [110,5,1,30], [100,5,1,2], [110,4,1,2], [93,3,1,100], [107,2,1,2], [117,3,1,2], [96,2,1,90], [105,3,1,2], [100,3,1,2], [110,3,1,2]] -->"
   ]
  },
  {
   "cell_type": "code",
   "execution_count": 6,
   "metadata": {},
   "outputs": [],
   "source": [
    "#Euclidian Distance between two d-dimensional points\n",
    "def eucldist(p0,p1):\n",
    "    dist = 0.0\n",
    "    for i in range(0,len(p0)):\n",
    "        dist += (p0[i] - p1[i])**2\n",
    "    return math.sqrt(dist)\n",
    "    \n",
    "#K-Means Algorithm\n",
    "def kmeans(k,datapoints):\n",
    "\n",
    "    # d - Dimensionality of Datapoints\n",
    "    d = len(datapoints[0]) \n",
    "    \n",
    "    #Limit our iterations\n",
    "    Max_Iterations = 1000\n",
    "    i = 0\n",
    "    \n",
    "    cluster = [0] * len(datapoints)\n",
    "    prev_cluster = [-1] * len(datapoints)\n",
    "    \n",
    "    #Randomly Choose Centers for the Clusters\n",
    "    cluster_centers = []\n",
    "    for i in range(0,k):\n",
    "        new_cluster = []\n",
    "        #for i in range(0,d):\n",
    "        #    new_cluster += [random.randint(0,10)]\n",
    "        cluster_centers += [random.choice(datapoints)]\n",
    "        \n",
    "        \n",
    "        #Sometimes The Random points are chosen poorly and so there ends up being empty clusters\n",
    "        #In this particular implementation we want to force K exact clusters.\n",
    "        #To take this feature off, simply take away \"force_recalculation\" from the while conditional.\n",
    "        force_recalculation = False\n",
    "    \n",
    "    while (cluster != prev_cluster) or (i > Max_Iterations) or (force_recalculation) :\n",
    "        \n",
    "        prev_cluster = list(cluster)\n",
    "        force_recalculation = False\n",
    "        i += 1\n",
    "    \n",
    "        #Update Point's Cluster Alligiance\n",
    "        for p in range(0,len(datapoints)):\n",
    "            min_dist = float(\"inf\")\n",
    "            \n",
    "            #Check min_distance against all centers\n",
    "            for c in range(0,len(cluster_centers)):\n",
    "                \n",
    "                dist = eucldist(datapoints[p],cluster_centers[c])\n",
    "                \n",
    "                if (dist < min_dist):\n",
    "                    min_dist = dist  \n",
    "                    cluster[p] = c   # Reassign Point to new Cluster\n",
    "        \n",
    "        \n",
    "        #Update Cluster's Position\n",
    "        for k in range(0,len(cluster_centers)):\n",
    "            new_center = [0] * d\n",
    "            members = 0\n",
    "            for p in range(0,len(datapoints)):\n",
    "                if (cluster[p] == k): #If this point belongs to the cluster\n",
    "                    for j in range(0,d):\n",
    "                        new_center[j] += datapoints[p][j]\n",
    "                    members += 1\n",
    "            \n",
    "            for j in range(0,d):\n",
    "                if members != 0:\n",
    "                    new_center[j] = new_center[j] / float(members) \n",
    "                \n",
    "                #This means that our initial random assignment was poorly chosen\n",
    "                #Change it to a new datapoint to actually force k clusters\n",
    "                else: \n",
    "                    new_center = random.choice(datapoints)\n",
    "                    force_recalculation = True\n",
    "                    print(\"Forced Recalculation...\")\n",
    "                    \n",
    "            \n",
    "            cluster_centers[k] = new_center\n",
    "    \n",
    "        \n",
    "#     print(\"======== Results ========\")\n",
    "#     print(\"Clusters\", cluster_centers)\n",
    "#     print(\"Iterations\",i)\n",
    "#     print(\"Assignments\", cluster)\n",
    "    \n",
    "    return cluster_centers"
   ]
  },
  {
   "cell_type": "code",
   "execution_count": 7,
   "metadata": {},
   "outputs": [],
   "source": [
    "#Run k-means\n",
    "centroids = kmeans(k=2, datapoints=Training)"
   ]
  },
  {
   "cell_type": "code",
   "execution_count": 8,
   "metadata": {
    "jupyter": {
     "source_hidden": true
    }
   },
   "outputs": [],
   "source": [
    "#Another k-means algorithm\n",
    "\n",
    "# X = Training\n",
    "\n",
    "# #Euclidian Distance between two d-dimensional points\n",
    "# def eucldist(p0,p1):\n",
    "#     dist = 0.0\n",
    "#     for i in range(0,len(p0)):\n",
    "#         dist += (p0[i] - p1[i])**2\n",
    "#     return math.sqrt(dist)\n",
    "\n",
    "# def Closeness(centroid, relationship):\n",
    "#     c1_counter = c2_counter = 0\n",
    "    \n",
    "#     for i in range(len(X)):\n",
    "#         if(eucldist(X[i],centroid[0])>eucldist(X[i],centroid[1])):\n",
    "#             relationship[i] = True\n",
    "#             c1_counter += 1\n",
    "#         else:\n",
    "#             relationship[i] = False\n",
    "#             c2_counter += 1\n",
    "#     return centroid, relationship\n",
    "            \n",
    "# #finds new centroid\n",
    "# def findCentroid(relationship):\n",
    "#     c1_counter = c2_counter = 0\n",
    "    \n",
    "#     sumCentroid1 = sumCentroid2 = 0\n",
    "#     centroids = np.zeros((2))\n",
    "    \n",
    "#     for i in range(len(X)):\n",
    "#         if(relationship[i] == True):\n",
    "#             sumCentroid1 += X[i]\n",
    "#             c1_counter += 1\n",
    "#         else:\n",
    "#             sumCentroid2 += X[i]\n",
    "#             c2_counter += 1\n",
    "            \n",
    "#     centroids = [[sumCentroid1/c1_counter],[sumCentroid2/c2_counter]]\n",
    "    \n",
    "#     return centroids  \n",
    "\n",
    "# #checks if centroid changed\n",
    "# def checkChange(centroidsOld, centroidsNew):\n",
    "#     for i in range(len(X[0])):\n",
    "#         if(centroidsOld[0][i] == centroidsNew[0][i]):\n",
    "#             return True\n",
    "#     return False\n",
    "\n",
    "# #random centroids\n",
    "# # centroid = np.zeros((2,2))\n",
    "# centroid = np.vstack((np.array(X[5]),np.array(X[40])))#change\n",
    "\n",
    "\n",
    "\n",
    "# relationship = [False]*len(X)\n",
    "# c1_counter = c2_counter = 0\n",
    "# sumCentroid1 = sumCentroid2 = 0\n",
    "\n",
    "# oldCentroid, relationship = Closeness(centroid, relationship)\n",
    "# newCentroids = findCentroid(relationship)\n",
    "\n",
    "# # while(checkChange(oldCentroid, newCentroids)):\n",
    "# while(np.array_equal(np.array(oldCentroid), np.array(newCentroids))):\n",
    "#     print(\"Iteration\")\n",
    "#     oldCentroid = newCentroids\n",
    "#     oldCentroid, relationship = Closeness(oldCentroid, relationship)\n",
    "#     newCentroids = findCentroid(relationship)\n",
    "    \n",
    "# centroids = np.zeros((2, 256))\n",
    "\n",
    "# centroids[0] = newCentroids[0][0]\n",
    "# centroids[1] = newCentroids[1][0]"
   ]
  },
  {
   "cell_type": "code",
   "execution_count": 9,
   "metadata": {},
   "outputs": [
    {
     "name": "stdout",
     "output_type": "stream",
     "text": [
      "centroids have been collected\n"
     ]
    }
   ],
   "source": [
    "print(\"centroids have been collected\")"
   ]
  },
  {
   "cell_type": "markdown",
   "metadata": {},
   "source": [
    "## Prediction"
   ]
  },
  {
   "cell_type": "code",
   "execution_count": 10,
   "metadata": {},
   "outputs": [],
   "source": [
    "#Histogram of all TEST images\n",
    "Test = np.zeros((7558, 256))#remaining 3779 paras and uninfected images\n",
    "\n",
    "#Getting and equalizing histogram\n",
    "for i in range(3779):\n",
    "    img = cv2.imread(\"../DataSet/Parasitized/\" + ParasitizedFilename[i+10000], 0)\n",
    "    equ = cv2.equalizeHist(img)#equalizing hist\n",
    "    hist,bins = np.histogram(equ.flatten(),256,[0,256])\n",
    "    Test[i] = hist\n",
    "    Test[i][0] = 0\n",
    "\n",
    "    img = cv2.imread(\"../DataSet/Uninfected/\" + UninfectedFilename[i+10000], 0)\n",
    "    equ = cv2.equalizeHist(img)#equalizing hist\n",
    "    hist,bins = np.histogram(equ.flatten(),256,[0,256])\n",
    "    Test[i+3779] = hist       \n",
    "    Test[i+3779][0] = 0"
   ]
  },
  {
   "cell_type": "code",
   "execution_count": 11,
   "metadata": {},
   "outputs": [
    {
     "name": "stdout",
     "output_type": "stream",
     "text": [
      "TPositive, TNegative, FPositive, FNegative\n",
      "457 3313 3322 466\n",
      "prediction has been competed\n"
     ]
    }
   ],
   "source": [
    "TPositive = TNegative = FPositive = FNegative = 0\n",
    "#TPositive = Actually parasitized and found right\n",
    "#FPositive = Actually parasitized and found wrong\n",
    "#TNegative = Actually uninfected and found right\n",
    "#FNegative = Actually uninfected and found wrong\n",
    "\n",
    "for i in range (3779):\n",
    "    \n",
    "    Distance1 = Distance2 = Distance3 = Distance4 = 0   \n",
    "    \n",
    "#     for j in range(256):  #size of dimension\n",
    "#         Distance1 += (centroids[0][j] - Test[i][j])*(centroids[0][j] - Test[i][j])\n",
    "#         Distance2 += (centroids[1][j] - Test[i][j])*(centroids[1][j] - Test[i][j])\n",
    "        \n",
    "#     for j in range(256):  #size of dimension\n",
    "#         Distance3 += (centroids[0][j] - Test[i+6890][j])*(centroids[0][j] - Test[i+6890][j])\n",
    "#         Distance4 += (centroids[1][j] - Test[i+6890][j])*(centroids[1][j] - Test[i+6890][j])\n",
    "       \n",
    "    Distance1 = eucldist(p0=centroids[0],p1=Test[i])#Parasitized centroid 0\n",
    "    Distance2 = eucldist(p0=centroids[1],p1=Test[i])#Parasitized centroid 1\n",
    "    Distance3 = eucldist(p0=centroids[0],p1=Test[i+3779])#Uninfected centroid 0\n",
    "    Distance4 = eucldist(p0=centroids[1],p1=Test[i+3779])#Uninfected centroid 1\n",
    "    \n",
    "    if(Distance1>Distance2):\n",
    "        TPositive += 1\n",
    "    else: \n",
    "        FPositive += 1\n",
    "        \n",
    "    if(Distance3>Distance4):\n",
    "        FNegative += 1\n",
    "    else: \n",
    "        TNegative += 1\n",
    "\n",
    "#If parasitized is another centroid\n",
    "# if(TPositive<FPositive):\n",
    "#     TPositive, FPositive = FPositive, TPositive\n",
    "# if(TNegative<FNegative):\n",
    "#     TNegative, FNegative = FNegative, TNegative\n",
    "        \n",
    "print(\"TPositive, TNegative, FPositive, FNegative\")\n",
    "print(TPositive, TNegative, FPositive, FNegative)\n",
    "print(\"prediction has been competed\")"
   ]
  },
  {
   "cell_type": "markdown",
   "metadata": {},
   "source": [
    "## Percentage"
   ]
  },
  {
   "cell_type": "code",
   "execution_count": 12,
   "metadata": {
    "collapsed": true,
    "jupyter": {
     "outputs_hidden": true
    }
   },
   "outputs": [
    {
     "name": "stdout",
     "output_type": "stream",
     "text": [
      "In parasitized folder =  12.093146335009262 % right and  87.90685366499073 % wrong\n",
      "In uninfected folder =  87.66869542206933 % right and  12.33130457793067 % wrong\n"
     ]
    }
   ],
   "source": [
    "print(\"In parasitized folder = \", TPositive*100/3779, \"% right and \", FPositive*100/3779, \"% wrong\")\n",
    "print(\"In uninfected folder = \", TNegative*100/3779, \"% right and \", FNegative*100/3779, \"% wrong\")"
   ]
  },
  {
   "cell_type": "markdown",
   "metadata": {},
   "source": [
    "## Take a specific picture"
   ]
  },
  {
   "cell_type": "code",
   "execution_count": 13,
   "metadata": {},
   "outputs": [],
   "source": [
    "# #path of image\n",
    "# # src = \"../Parasitized/\" + ParasitizedFilename[5]\n",
    "# # src = \"../Uninfected/\" + UninfectedFilename[45]\n",
    "# ParasitizedFilename = os.listdir(\"/home/mehanton/Documents/Python/DataSet/Parasitized\")\n",
    "# UninfectedFilename = os.listdir(\"/home/mehanton/Documents/Python/DataSet/Uninfected\")\n",
    "\n",
    "# src = \"../DataSet/Parasitized/\" \n",
    "\n",
    "# for i in range(1000):\n",
    "#     img = cv2.imread(src + ParasitizedFilename[i], 0)\n",
    "#     equ = cv2.equalizeHist(img)\n",
    "#     hist,bins = np.histogram(equ.flatten(),256,[0,256])\n",
    "\n",
    "#     Distance1 = eucldist(p0=centroids[0],p1=hist)\n",
    "#     Distance2 = eucldist(p0=centroids[1],p1=hist)\n",
    "\n",
    "# #     print(Distance1, Distance2)\n",
    "\n",
    "#     #Centroids could be swaped!\n",
    "#     if(Distance1>Distance2):\n",
    "#         print(\"It's Uninfected\")\n",
    "#     else: \n",
    "#         print(\"It's Parasitized\")"
   ]
  },
  {
   "cell_type": "markdown",
   "metadata": {},
   "source": [
    "## Finish"
   ]
  }
 ],
 "metadata": {
  "kernelspec": {
   "display_name": "Python 3",
   "language": "python",
   "name": "python3"
  },
  "language_info": {
   "codemirror_mode": {
    "name": "ipython",
    "version": 3
   },
   "file_extension": ".py",
   "mimetype": "text/x-python",
   "name": "python",
   "nbconvert_exporter": "python",
   "pygments_lexer": "ipython3",
   "version": "3.7.3"
  }
 },
 "nbformat": 4,
 "nbformat_minor": 4
}
